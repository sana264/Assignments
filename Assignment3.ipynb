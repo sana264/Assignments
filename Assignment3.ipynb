{
 "cells": [
  {
   "cell_type": "code",
   "execution_count": 48,
   "metadata": {},
   "outputs": [
    {
     "name": "stdout",
     "output_type": "stream",
     "text": [
      "Enter 1st number: 3\n",
      "Enter 2nd number: 2\n",
      "Enter Operator[+ for addition,- for subtraction,* for multiplication,/ for division,p for power]:+\n",
      "Result:  5\n"
     ]
    }
   ],
   "source": [
    "#Task 1 \n",
    "num1 = int(input(\"Enter 1st number: \"))\n",
    "num2 = int(input(\"Enter 2nd number: \"))\n",
    "result = 0\n",
    "\n",
    "op = input(\"Enter Operator[+ for addition,- for subtraction,* for multiplication,/ for division,p for power]:\")\n",
    "\n",
    "if op == '+':\n",
    "    result = num1+num2\n",
    "elif op == '-':\n",
    "    result = num1-num2\n",
    "elif op == '*':\n",
    "    result = num1*num2\n",
    "elif op == '/':\n",
    "    result = num1/num2\n",
    "elif op == 'p' or op == 'P' :\n",
    "    result = num1**num2\n",
    "    \n",
    "print(\"Result: \", result)"
   ]
  },
  {
   "cell_type": "code",
   "execution_count": 44,
   "metadata": {},
   "outputs": [
    {
     "name": "stdout",
     "output_type": "stream",
     "text": [
      "Enter list element: 3\n",
      "Enter list element: c\n",
      "Enter list element: d\n",
      "Enter list element: d\n",
      "Enter list element: d\n",
      "yes, list contains numeric value\n"
     ]
    }
   ],
   "source": [
    "#Task2\n",
    "flag= False\n",
    "any_list =[]\n",
    "for i in range(5):\n",
    "    any_list.append(input(\"Enter list element: \"))\n",
    "    \n",
    "for i in range(len(any_list)):    \n",
    "    if any_list[i].isdigit():\n",
    "        flag=True\n",
    "        \n",
    "if flag==True:\n",
    "     print(\"yes, list contains numeric value\")\n",
    "else:\n",
    "    print(\"No, list does not contain numeric value\")"
   ]
  },
  {
   "cell_type": "code",
   "execution_count": 43,
   "metadata": {},
   "outputs": [
    {
     "name": "stdout",
     "output_type": "stream",
     "text": [
      "{'f_name': 'Aslam', 'l_name': 'Khan', 'G.R.No': 321}\n",
      "{'f_name': 'Aslam', 'l_name': 'Khan', 'G.R.No': 321, 'city': 'Karachi'}\n"
     ]
    }
   ],
   "source": [
    "#Task 3\n",
    "Employee = {\"f_name\":\"Aslam\", \"l_name\":\"Khan\", \"G.R.No\":321,}\n",
    "print(Employee)\n",
    "Employee [\"city\"]=\"Karachi\"\n",
    "print(Employee)"
   ]
  },
  {
   "cell_type": "code",
   "execution_count": 15,
   "metadata": {},
   "outputs": [
    {
     "name": "stdout",
     "output_type": "stream",
     "text": [
      "98\n"
     ]
    }
   ],
   "source": [
    "#Task4\n",
    "dummy = {1:\"96\",2:\"khan\",3:\"2\"}\n",
    "sum=0\n",
    "for each_value in dummy.values():\n",
    "    if each_value.isdigit():\n",
    "        sum+=int(each_value)\n",
    "        \n",
    "print(sum)"
   ]
  },
  {
   "cell_type": "code",
   "execution_count": 27,
   "metadata": {},
   "outputs": [
    {
     "name": "stdout",
     "output_type": "stream",
     "text": [
      "['Maha']\n"
     ]
    }
   ],
   "source": [
    "#Task 5\n",
    "names = [\"Maha\",\"Ali\",\"Ahmed\",\"Maha\"]\n",
    "count = 0\n",
    "duplicate_items=[]\n",
    "uitems=[]\n",
    "for temp in names:\n",
    "    for name in names:\n",
    "        if temp == name:\n",
    "            count+=1    \n",
    "    if count>1:\n",
    "        duplicate_items.append(temp)\n",
    "    count=0\n",
    "    \n",
    "#print(duplicate_items)\n",
    "for x in duplicate_items:\n",
    "    if x not in uitems:\n",
    "        uitems.append(x)\n",
    "print(uitems)"
   ]
  },
  {
   "cell_type": "code",
   "execution_count": 49,
   "metadata": {},
   "outputs": [
    {
     "name": "stdout",
     "output_type": "stream",
     "text": [
      "Enter any key to be checked in dictionary: 2\n",
      "yes, it already exists!\n",
      "The dictionary is:  {'1': '96', '2': 'khan', '3': '2'}\n"
     ]
    }
   ],
   "source": [
    "#Task 6\n",
    "dummy = {\"1\":\"96\",\"2\":\"khan\",\"3\":\"2\"}\n",
    "key_to_check = input(\"Enter any key to be checked in dictionary: \")\n",
    "        \n",
    "if  key_to_check in dummy.keys():\n",
    "     print(\"yes, it already exists!\")\n",
    "else:\n",
    "        print(\"The given key doesn't exixt!\")\n",
    "print(\"The dictionary is: \",dummy)"
   ]
  },
  {
   "cell_type": "code",
   "execution_count": null,
   "metadata": {},
   "outputs": [],
   "source": []
  }
 ],
 "metadata": {
  "kernelspec": {
   "display_name": "Python 3",
   "language": "python",
   "name": "python3"
  },
  "language_info": {
   "codemirror_mode": {
    "name": "ipython",
    "version": 3
   },
   "file_extension": ".py",
   "mimetype": "text/x-python",
   "name": "python",
   "nbconvert_exporter": "python",
   "pygments_lexer": "ipython3",
   "version": "3.6.5"
  }
 },
 "nbformat": 4,
 "nbformat_minor": 2
}
