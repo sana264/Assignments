{
 "cells": [
  {
   "cell_type": "code",
   "execution_count": 1,
   "metadata": {},
   "outputs": [
    {
     "name": "stdout",
     "output_type": "stream",
     "text": [
      "Welcome to To-Do App!\n",
      " \n",
      "Press 'a' to Add task,\n",
      " 'd' to delete task,\n",
      " 'c'to clear all tasks \n",
      "and 'q' to quit application a\n",
      "Enter task to add in the list: cleaning\n",
      "Your To-Do list is:  ['cleaning']\n",
      " \n",
      "Press 'a' to Add task,\n",
      " 'd' to delete task,\n",
      " 'c'to clear all tasks \n",
      "and 'q' to quit application a\n",
      "Enter task to add in the list: studying\n",
      "Your To-Do list is:  ['cleaning', 'studying']\n",
      " \n",
      "Press 'a' to Add task,\n",
      " 'd' to delete task,\n",
      " 'c'to clear all tasks \n",
      "and 'q' to quit application a\n",
      "Enter task to add in the list: shopping\n",
      "Your To-Do list is:  ['cleaning', 'studying', 'shopping']\n",
      " \n",
      "Press 'a' to Add task,\n",
      " 'd' to delete task,\n",
      " 'c'to clear all tasks \n",
      "and 'q' to quit application d\n",
      "Enter task to delete from the list: cleaning\n",
      "Your To-Do list is:  ['studying', 'shopping']\n",
      " \n",
      "Press 'a' to Add task,\n",
      " 'd' to delete task,\n",
      " 'c'to clear all tasks \n",
      "and 'q' to quit application c\n",
      "Your To-Do list is:  []\n",
      " \n",
      "Press 'a' to Add task,\n",
      " 'd' to delete task,\n",
      " 'c'to clear all tasks \n",
      "and 'q' to quit application q\n",
      "Your To-Do list is:  []\n"
     ]
    }
   ],
   "source": [
    "#Task 5\n",
    "print(\"Welcome to To-Do App!\")\n",
    "userinput = \"\"\n",
    "Tasks = []\n",
    "while userinput != \"q\":\n",
    "    userinput = input(\" \\nPress 'a' to Add task,\\r 'd' to delete task,\\r 'c'to clear all tasks \\rand 'q' to quit application \")\n",
    "    if(userinput == \"a\"):\n",
    "        Tasks.append(input(\"Enter task to add in the list: \"))\n",
    "    elif(userinput == \"d\"):\n",
    "        Tasks.remove(input(\"Enter task to delete from the list: \"))\n",
    "    elif(userinput == \"c\"):\n",
    "        Tasks = []\n",
    "    print(\"Your To-Do list is: \",Tasks)"
   ]
  },
  {
   "cell_type": "code",
   "execution_count": null,
   "metadata": {},
   "outputs": [],
   "source": []
  }
 ],
 "metadata": {
  "kernelspec": {
   "display_name": "Python 3",
   "language": "python",
   "name": "python3"
  },
  "language_info": {
   "codemirror_mode": {
    "name": "ipython",
    "version": 3
   },
   "file_extension": ".py",
   "mimetype": "text/x-python",
   "name": "python",
   "nbconvert_exporter": "python",
   "pygments_lexer": "ipython3",
   "version": "3.6.5"
  }
 },
 "nbformat": 4,
 "nbformat_minor": 2
}
