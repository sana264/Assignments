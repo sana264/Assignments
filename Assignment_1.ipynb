{
 "cells": [
  {
   "cell_type": "code",
   "execution_count": 49,
   "metadata": {},
   "outputs": [
    {
     "name": "stdout",
     "output_type": "stream",
     "text": [
      "Twinkle, twinkle, little star,\n",
      "\tHow I wonder what you are!\n",
      "\t\tUp above the world so high,\n",
      "\t\tLike a diamond in the sky.\n",
      "Twinkle, twinkle, little star,\n",
      "\tHow I wonder what you are!\n"
     ]
    }
   ],
   "source": [
    "#Task 1\n",
    "str1= \"Twinkle, twinkle, little star,\"\n",
    "str2=\"\\tHow I wonder what you are!\"\n",
    "print(str1)\n",
    "print(str2)\n",
    "print(\"\\t\\tUp above the world so high,\")\n",
    "print(\"\\t\\tLike a diamond in the sky.\")\n",
    "print(str1)\n",
    "print(str2)"
   ]
  },
  {
   "cell_type": "code",
   "execution_count": 48,
   "metadata": {},
   "outputs": [
    {
     "name": "stdout",
     "output_type": "stream",
     "text": [
      "3.6.5 |Anaconda, Inc.| (default, Mar 29 2018, 13:32:41) [MSC v.1900 64 bit (AMD64)]\n"
     ]
    }
   ],
   "source": [
    "#Task 2\n",
    "import sys\n",
    "print(sys.version)"
   ]
  },
  {
   "cell_type": "code",
   "execution_count": 47,
   "metadata": {},
   "outputs": [
    {
     "name": "stdout",
     "output_type": "stream",
     "text": [
      "Current Date: \n",
      "05-11-2019 \n",
      "Current Time: \n",
      "20:12:45 \n"
     ]
    }
   ],
   "source": [
    "#Task 3\n",
    "import datetime\n",
    "curr_dtime = datetime.datetime.now()\n",
    "print(\"Current Date: \")\n",
    "print(curr_dtime.strftime(\"%d-%m-%Y \"))\n",
    "print(\"Current Time: \")\n",
    "print(curr_dtime.strftime(\"%H:%M:%S \"))"
   ]
  },
  {
   "cell_type": "code",
   "execution_count": 46,
   "metadata": {},
   "outputs": [
    {
     "name": "stdout",
     "output_type": "stream",
     "text": [
      "Enter radius of the circle to calculate its area:\n",
      "9\n",
      "Area of the circle is :\n",
      "56.556\n"
     ]
    }
   ],
   "source": [
    "#Task 4\n",
    "print(\"Enter radius of the circle to calculate its area:\")\n",
    "radius = int(input())\n",
    "pi = 3.142\n",
    "area = 2*radius*pi\n",
    "print(\"Area of the circle is :\")\n",
    "print(area)"
   ]
  },
  {
   "cell_type": "code",
   "execution_count": 44,
   "metadata": {},
   "outputs": [
    {
     "name": "stdout",
     "output_type": "stream",
     "text": [
      "Enter your first name:\n",
      "Sana\n",
      "Enter your last name:\n",
      "Maqsood\n",
      "Maqsood   Sana\n"
     ]
    }
   ],
   "source": [
    "#Task 5\n",
    "print(\"Enter your first name:\")\n",
    "fname=input()\n",
    "\n",
    "print(\"Enter your last name:\")\n",
    "lname=input()\n",
    "print(lname,\" \",fname)\n"
   ]
  },
  {
   "cell_type": "code",
   "execution_count": 45,
   "metadata": {},
   "outputs": [
    {
     "name": "stdout",
     "output_type": "stream",
     "text": [
      "Enter any number:\n",
      "3\n",
      "Enter again any number:\n",
      "6\n",
      "Total sum is: 9\n",
      "9\n"
     ]
    }
   ],
   "source": [
    "#Task 6\n",
    "print(\"Enter any number:\")\n",
    "number1 = int(input())\n",
    "print(\"Enter again any number:\")\n",
    "number2 = int(input())\n",
    "print(\"Total sum is:\",number1+number2)\n",
    "print(number1+number2)"
   ]
  },
  {
   "cell_type": "code",
   "execution_count": null,
   "metadata": {},
   "outputs": [],
   "source": []
  }
 ],
 "metadata": {
  "kernelspec": {
   "display_name": "Python 3",
   "language": "python",
   "name": "python3"
  },
  "language_info": {
   "codemirror_mode": {
    "name": "ipython",
    "version": 3
   },
   "file_extension": ".py",
   "mimetype": "text/x-python",
   "name": "python",
   "nbconvert_exporter": "python",
   "pygments_lexer": "ipython3",
   "version": "3.6.5"
  }
 },
 "nbformat": 4,
 "nbformat_minor": 2
}
