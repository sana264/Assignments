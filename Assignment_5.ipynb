{
 "cells": [
  {
   "cell_type": "code",
   "execution_count": 14,
   "metadata": {},
   "outputs": [
    {
     "name": "stdout",
     "output_type": "stream",
     "text": [
      "Enter number: 4\n",
      "the factorial of  4 is 24\n"
     ]
    }
   ],
   "source": [
    "#Task1    --------Factorial of a number----------------\n",
    "def factorial(num):\n",
    "    fact=1\n",
    "    for i in range(num):\n",
    "        i+=1\n",
    "        fact *= i       \n",
    "    return fact\n",
    "        \n",
    "num = int(input(\"Enter number: \"))       \n",
    "print(\"the factorial of \",num, \"is\",factorial(num))"
   ]
  },
  {
   "cell_type": "code",
   "execution_count": 70,
   "metadata": {},
   "outputs": [
    {
     "name": "stdout",
     "output_type": "stream",
     "text": [
      "Enter any string: Faizan Ahmed Warsi\n",
      "Upper Case Count:  3\n",
      "Lower Case Count:  13\n"
     ]
    }
   ],
   "source": [
    "#Task2    \n",
    "\n",
    "def Case_Counter(str1):\n",
    "    letter_count = {\"Upper\":0, \"lower\":0}\n",
    "    for letter in str1:\n",
    "        if letter.isupper():\n",
    "            letter_count[\"Upper\"]+=1\n",
    "        elif letter.islower():\n",
    "            letter_count[\"lower\"]+=1\n",
    "    print(\"Upper Case Count: \",letter_count[\"Upper\"])\n",
    "    print(\"Lower Case Count: \",letter_count[\"lower\"])\n",
    "\n",
    "    \n",
    "str1 = input(\"Enter any string: \")\n",
    "Case_Counter(str1)"
   ]
  },
  {
   "cell_type": "code",
   "execution_count": 59,
   "metadata": {},
   "outputs": [
    {
     "name": "stdout",
     "output_type": "stream",
     "text": [
      "Enter the length of the list of numbers: 4\n",
      "Enter number in the list: 1\n",
      "Enter number in the list: 2\n",
      "Enter number in the list: 3\n",
      "Enter number in the list: 4\n",
      "\n",
      "Even numbers are: [2, 4]\n"
     ]
    }
   ],
   "source": [
    "#Task3    \n",
    "\n",
    "def even_num(num):\n",
    "    even_list=[]\n",
    "    for each_num in num:\n",
    "        if each_num%2==0:\n",
    "            even_list.append(each_num)\n",
    "        \n",
    "    print(\"\\nEven numbers are:\",even_list)\n",
    "\n",
    "\n",
    "num= []\n",
    "length = int(input(\"Enter the length of the list of numbers: \"))\n",
    "\n",
    "for i in range(length):\n",
    "    num.append(int(input(\"Enter number in the list: \")))\n",
    "\n",
    "even_num(num)\n"
   ]
  },
  {
   "cell_type": "code",
   "execution_count": 53,
   "metadata": {},
   "outputs": [
    {
     "name": "stdout",
     "output_type": "stream",
     "text": [
      "Enter any string to check if it is palindrome or not: madam\n",
      "the given string is palindrome!\n"
     ]
    }
   ],
   "source": [
    "#Task 4\n",
    "\n",
    "def palindrom(any_string):    \n",
    "    hlf_len = int(len(any_string)/2)\n",
    "    length = len(any_string)-1\n",
    "    for i in range(hlf_len):       \n",
    "        if any_string[i]==any_string[length]:\n",
    "            length-=1\n",
    "            \n",
    "            if(i==hlf_len-1):\n",
    "                print(\"the given string is palindrome!\")   \n",
    "    \n",
    "\n",
    "palindrom(input(\"Enter any string to check if it is palindrome or not: \"))"
   ]
  },
  {
   "cell_type": "code",
   "execution_count": 63,
   "metadata": {},
   "outputs": [
    {
     "name": "stdout",
     "output_type": "stream",
     "text": [
      "Enter any number: 3\n",
      "It's a prime number\n"
     ]
    }
   ],
   "source": [
    "#Task 5\n",
    "def Check_Prime(num):\n",
    "    i  = 2\n",
    "    while i<num:\n",
    "        if num%i != 0:\n",
    "            i+=1\n",
    "        else:\n",
    "            print(\"Not a prime number\")\n",
    "            break\n",
    "    if(i==num):\n",
    "        print(\"It's a prime number\")\n",
    "    \n",
    "Check_Prime(int(input(\"Enter any number: \")))"
   ]
  },
  {
   "cell_type": "code",
   "execution_count": 69,
   "metadata": {},
   "outputs": [
    {
     "name": "stdout",
     "output_type": "stream",
     "text": [
      "Onion\n",
      "Coriander\n",
      "Spinach\n",
      "Sweater\n",
      "Vaseline\n",
      "Joggers\n"
     ]
    }
   ],
   "source": [
    "#Task 6\n",
    "def shopping_list(grocery,*other_items):\n",
    "    for item in grocery:\n",
    "        print(item)\n",
    "    for item in other_items:\n",
    "        print(item)\n",
    "    \n",
    "grocery = [\"Onion\",\"Coriander\",\"Spinach\"]\n",
    "shopping_list(grocery,\"Sweater\",\"Vaseline\",\"Joggers\")"
   ]
  },
  {
   "cell_type": "code",
   "execution_count": null,
   "metadata": {},
   "outputs": [],
   "source": []
  }
 ],
 "metadata": {
  "kernelspec": {
   "display_name": "Python 3",
   "language": "python",
   "name": "python3"
  },
  "language_info": {
   "codemirror_mode": {
    "name": "ipython",
    "version": 3
   },
   "file_extension": ".py",
   "mimetype": "text/x-python",
   "name": "python",
   "nbconvert_exporter": "python",
   "pygments_lexer": "ipython3",
   "version": "3.6.5"
  }
 },
 "nbformat": 4,
 "nbformat_minor": 2
}
