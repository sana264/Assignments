{
 "cells": [
  {
   "cell_type": "code",
   "execution_count": 5,
   "metadata": {},
   "outputs": [
    {
     "name": "stdout",
     "output_type": "stream",
     "text": [
      "Enter Subject1 marks: 10\n",
      "Enter Subject2 marks: 10\n",
      "Enter Subject3 marks: 10\n",
      "Enter Subject4 marks: 10\n",
      "Enter Subject5 marks: 10\n",
      "50\n",
      "10.0\n",
      "Failed\n"
     ]
    }
   ],
   "source": [
    "#Task 1\n",
    "subj1 = int(input(\"Enter Subject1 marks: \"))\n",
    "subj2 = int(input(\"Enter Subject2 marks: \"))\n",
    "subj3 = int(input(\"Enter Subject3 marks: \"))\n",
    "subj4 = int(input(\"Enter Subject4 marks: \"))\n",
    "subj5 = int(input(\"Enter Subject5 marks: \"))\n",
    "\n",
    "total = subj1+subj2+subj3+subj4+subj5\n",
    "print(total)\n",
    "percentage = (total/500)*100\n",
    "print(percentage)\n",
    "if percentage>=80:\n",
    "    print(\"Grade A1\")\n",
    "elif percentage>=70:\n",
    "    print(\"Grade A\")\n",
    "elif percentage>=60:\n",
    "    print(\"Grade B\") \n",
    "elif percentage>=50:\n",
    "    print(\"Grade C\")\n",
    "else:\n",
    "    print(\"Failed\")"
   ]
  },
  {
   "cell_type": "code",
   "execution_count": 7,
   "metadata": {},
   "outputs": [
    {
     "name": "stdout",
     "output_type": "stream",
     "text": [
      "Enter any number: 31\n",
      "Odd\n"
     ]
    }
   ],
   "source": [
    "#Task 2\n",
    "num = int(input(\"Enter any number: \"))\n",
    "if num%2==0:\n",
    "    print(\"Even\")\n",
    "else:\n",
    "    print(\"Odd\")"
   ]
  },
  {
   "cell_type": "code",
   "execution_count": 12,
   "metadata": {},
   "outputs": [
    {
     "name": "stdout",
     "output_type": "stream",
     "text": [
      "3\n"
     ]
    }
   ],
   "source": [
    "#Task 3\n",
    "li=[1,2,3]\n",
    "print(len(li))"
   ]
  },
  {
   "cell_type": "code",
   "execution_count": 14,
   "metadata": {},
   "outputs": [
    {
     "name": "stdout",
     "output_type": "stream",
     "text": [
      "5\n",
      "15\n"
     ]
    }
   ],
   "source": [
    "#task4\n",
    "numb = [1,2,3,4,5]\n",
    "print(len(numb))\n",
    "sum = numb[0]+numb[1]+numb[2]+numb[3]+numb[4]\n",
    "print(sum)"
   ]
  },
  {
   "cell_type": "code",
   "execution_count": 33,
   "metadata": {},
   "outputs": [
    {
     "name": "stdout",
     "output_type": "stream",
     "text": [
      "Largest:  4\n"
     ]
    }
   ],
   "source": [
    "#task5\n",
    "numb = [1,2,3,4]\n",
    "largest = numb[0]\n",
    "\n",
    "if largest<numb[1]:\n",
    "    largest=numb[1]\n",
    "    \n",
    "if largest<numb[2]:\n",
    "    largest=numb[2]  \n",
    "    \n",
    "if largest<numb[3]:\n",
    "    largest=numb[3]  \n",
    "    \n",
    "print(\"Largest: \",largest)"
   ]
  },
  {
   "cell_type": "code",
   "execution_count": 30,
   "metadata": {},
   "outputs": [
    {
     "name": "stdout",
     "output_type": "stream",
     "text": [
      "[3]\n",
      "[3, 4]\n"
     ]
    }
   ],
   "source": [
    "#task6\n",
    "numb = [7,6,3,4]\n",
    "less=[]\n",
    "\n",
    "if numb[0]<5:\n",
    "    less.append(numb[0])\n",
    "    print(less)\n",
    "if numb[1]<5:\n",
    "    less.append(numb[1])\n",
    "    print(less)\n",
    "if numb[2]<5:\n",
    "    less.append(numb[2])\n",
    "    print(less)\n",
    "if numb[3]<5:\n",
    "    less.append(numb[3])\n",
    "    print(less)"
   ]
  },
  {
   "cell_type": "code",
   "execution_count": null,
   "metadata": {},
   "outputs": [],
   "source": []
  }
 ],
 "metadata": {
  "kernelspec": {
   "display_name": "Python 3",
   "language": "python",
   "name": "python3"
  },
  "language_info": {
   "codemirror_mode": {
    "name": "ipython",
    "version": 3
   },
   "file_extension": ".py",
   "mimetype": "text/x-python",
   "name": "python",
   "nbconvert_exporter": "python",
   "pygments_lexer": "ipython3",
   "version": "3.6.5"
  }
 },
 "nbformat": 4,
 "nbformat_minor": 2
}
