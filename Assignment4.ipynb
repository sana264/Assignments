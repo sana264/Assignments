{
 "cells": [
  {
   "cell_type": "code",
   "execution_count": 8,
   "metadata": {},
   "outputs": [
    {
     "name": "stdout",
     "output_type": "stream",
     "text": [
      "{'first_name': 'Ali', ' last_name': 'Raza', 'age': 22, 'city': 'Karachi'}\n",
      "{'first_name': 'Ali', ' last_name': 'Raza', 'age': 22, 'city': 'Karachi', 'qualification': 'HSSC'}\n",
      "{'first_name': 'Ali', ' last_name': 'Raza', 'age': 22, 'city': 'Karachi', 'qualification': 'High Academic Level'}\n",
      "{'first_name': 'Ali', ' last_name': 'Raza', 'age': 22, 'city': 'Karachi'}\n"
     ]
    }
   ],
   "source": [
    "#Task1\n",
    "person = {\n",
    "    \"first_name\":\"Ali\",\n",
    "    \" last_name\":\"Raza\",\n",
    "    \"age\":22,\n",
    "    \"city\":\"Karachi\",\n",
    "}\n",
    "print(person)\n",
    "person[\"qualification\"]=\"HSSC\"\n",
    "print(person)\n",
    "person[\"qualification\"]=\"High Academic Level\"\n",
    "print(person)\n",
    "del person[\"qualification\"]\n",
    "print(person)\n"
   ]
  },
  {
   "cell_type": "code",
   "execution_count": 9,
   "metadata": {},
   "outputs": [
    {
     "name": "stdout",
     "output_type": "stream",
     "text": [
      "{'Karachi': {'country': 'Pakistan', 'popultion': 100000, 'fact': 'The city of lights'}, 'Lahore': {'country': 'Pakistan', 'popultion': 11000, 'fact': 'The city of foods'}, 'Islamabad': {'country': 'Pakistan', 'popultion': 1000, 'fact': 'Capital city of Pakistan'}}\n"
     ]
    }
   ],
   "source": [
    "#Task2\n",
    "cities = {\n",
    "    \"Karachi\":{\n",
    "        \"country\":\"Pakistan\",\n",
    "        \"popultion\":100000,\n",
    "        \"fact\":\"The city of lights\",\n",
    "    },\n",
    "    \n",
    "    \"Lahore\":{\n",
    "        \"country\":\"Pakistan\",\n",
    "        \"popultion\":11000,\n",
    "        \"fact\":\"The city of foods\",\n",
    "    },\n",
    "    \n",
    "    \"Islamabad\":{\n",
    "        \"country\":\"Pakistan\",\n",
    "        \"popultion\":1000,\n",
    "        \"fact\":\"Capital city of Pakistan\",\n",
    "    },\n",
    "}\n",
    "print(cities)"
   ]
  },
  {
   "cell_type": "code",
   "execution_count": 11,
   "metadata": {},
   "outputs": [
    {
     "name": "stdout",
     "output_type": "stream",
     "text": [
      "Welcome! Please Enter your age: 15\n",
      "15\n",
      "your ticket charges is $15!\n",
      "Press e/E to exit and any other key to continue!j\n",
      "Welcome! Please Enter your age: 3\n",
      "3\n",
      "your ticket charges is $10!\n",
      "Press e/E to exit and any other key to continue!o\n",
      "Welcome! Please Enter your age: 1\n",
      "1\n",
      "you are free to enjoy!\n",
      "Press e/E to exit and any other key to continue!e\n",
      "Good Bye!\n"
     ]
    }
   ],
   "source": [
    "#Task3\n",
    "while (True):\n",
    "    \n",
    "    \n",
    "    ticket_charges = 0\n",
    "    user_age =int(input(\"Welcome! Please Enter your age: \")) \n",
    "    print(user_age)\n",
    "    \n",
    "    if(user_age<3):\n",
    "        ticket_charges = 0\n",
    "        print(\"you are free to enjoy!\")\n",
    "    elif user_age>=3 and user_age<=12:\n",
    "        ticket_charges = 10\n",
    "        print(\"your ticket charges is $10!\")\n",
    "    elif user_age>12:\n",
    "        ticket_charges = 15\n",
    "        print(\"your ticket charges is $15!\")\n",
    "    \n",
    "    \n",
    "    ch = input(\"Press e/E to exit and any other key to continue!\")\n",
    "    if(ch==\"e\" or ch==\"E\"):\n",
    "        print(\"Good Bye!\")\n",
    "        break"
   ]
  },
  {
   "cell_type": "code",
   "execution_count": 12,
   "metadata": {},
   "outputs": [
    {
     "name": "stdout",
     "output_type": "stream",
     "text": [
      "Enter your favorite book title: Alice in Wonderland\n",
      "One of my favorite books is Alice in Wonderland\n"
     ]
    }
   ],
   "source": [
    "#Task4\n",
    "def favorite_book(title):\n",
    "    print(\"One of my favorite books is \"+ title)\n",
    "\n",
    "variable = input(\"Enter your favorite book title: \")\n",
    "favorite_book( variable)"
   ]
  },
  {
   "cell_type": "code",
   "execution_count": 13,
   "metadata": {},
   "outputs": [
    {
     "name": "stdout",
     "output_type": "stream",
     "text": [
      "Guess the number between 1 and 30: 2\n",
      "OOPS! Try any greater value...\n",
      "Guess the number between 1 and 30: 10\n",
      "OOPS! Try any lesser value...\n",
      "Guess the number between 1 and 30: 8\n",
      "Sorry, you reached the limit!\n"
     ]
    }
   ],
   "source": [
    "#Task5\n",
    "import random\n",
    "var = random.randrange(1,30)\n",
    "\n",
    "def GuessGame():\n",
    "    for i in range(3):\n",
    "        U_input = int(input(\"Guess the number between 1 and 30: \"))\n",
    "        if var == U_input:\n",
    "            print(\"Congratulations! You Won!\")\n",
    "            break\n",
    "        elif var > U_input:\n",
    "            if (i<2):\n",
    "                print(\"OOPS! Try any greater value...\")\n",
    "            else:\n",
    "                print(\"Sorry, you reached the limit!\")\n",
    "        elif var < U_input:\n",
    "            if (i<2):\n",
    "                print(\"OOPS! Try any lesser value...\")\n",
    "            else:\n",
    "                print(\"Sorry, you reached the limit!\")\n",
    "\n",
    "GuessGame()"
   ]
  },
  {
   "cell_type": "code",
   "execution_count": null,
   "metadata": {},
   "outputs": [],
   "source": []
  }
 ],
 "metadata": {
  "kernelspec": {
   "display_name": "Python 3",
   "language": "python",
   "name": "python3"
  },
  "language_info": {
   "codemirror_mode": {
    "name": "ipython",
    "version": 3
   },
   "file_extension": ".py",
   "mimetype": "text/x-python",
   "name": "python",
   "nbconvert_exporter": "python",
   "pygments_lexer": "ipython3",
   "version": "3.6.5"
  }
 },
 "nbformat": 4,
 "nbformat_minor": 2
}
